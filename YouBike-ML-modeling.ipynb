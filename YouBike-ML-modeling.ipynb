{
 "cells": [
  {
   "cell_type": "markdown",
   "metadata": {},
   "source": [
    "# Create Machine learning model for public bike parking lots predictions\n",
    "\n",
    "After Worked on data analytics, we will get started to build up machine learning models "
   ]
  },
  {
   "cell_type": "code",
   "execution_count": 36,
   "metadata": {},
   "outputs": [
    {
     "data": {
      "text/html": [
       "<pre>&lt;class 'pandas.core.frame.DataFrame'&gt;\n",
       "RangeIndex: 814262 entries, 0 to 814261\n",
       "Data columns (total 11 columns):\n",
       " #   Column           Non-Null Count   Dtype \n",
       "---  ------           --------------   ----- \n",
       " 0   _id              814262 non-null  object\n",
       " 1   station_no       814262 non-null  int64 \n",
       " 2   station_name     814262 non-null  object\n",
       " 3   station_name_en  814262 non-null  object\n",
       " 4   district         814262 non-null  object\n",
       " 5   district_en      814262 non-null  object\n",
       " 6   total            814262 non-null  int64 \n",
       " 7   rentAvailable    814262 non-null  int64 \n",
       " 8   returnAvaiable   814262 non-null  int64 \n",
       " 9   updated_time     814262 non-null  object\n",
       " 10  info_time        814262 non-null  object\n",
       "dtypes: int64(4), object(7)\n",
       "memory usage: 68.3+ MB\n",
       "</pre>"
      ],
      "text/plain": [
       "<class 'pandas.core.frame.DataFrame'>\n",
       "RangeIndex: 814262 entries, 0 to 814261\n",
       "Data columns (total 11 columns):\n",
       " #   Column           Non-Null Count   Dtype \n",
       "---  ------           --------------   ----- \n",
       " 0   _id              814262 non-null  object\n",
       " 1   station_no       814262 non-null  int64 \n",
       " 2   station_name     814262 non-null  object\n",
       " 3   station_name_en  814262 non-null  object\n",
       " 4   district         814262 non-null  object\n",
       " 5   district_en      814262 non-null  object\n",
       " 6   total            814262 non-null  int64 \n",
       " 7   rentAvailable    814262 non-null  int64 \n",
       " 8   returnAvaiable   814262 non-null  int64 \n",
       " 9   updated_time     814262 non-null  object\n",
       " 10  info_time        814262 non-null  object\n",
       "dtypes: int64(4), object(7)\n",
       "memory usage: 68.3+ MB"
      ]
     },
     "execution_count": 36,
     "metadata": {},
     "output_type": "execute_result"
    }
   ],
   "source": [
    "import numpy as np\n",
    "import pandas as pd\n",
    "import os\n",
    "from sklearn.model_selection import train_test_split\n",
    "\n",
    "pd.set_option('display.max_rows',5)\n",
    "pd.set_option('large_repr', 'info')\n",
    "\n",
    "li = []\n",
    "for dirname, _, filenames in os.walk('./data/'):\n",
    "    for filename in filenames:\n",
    "        df = pd.read_csv(dirname+filename, index_col=None, header=0)\n",
    "        li.append(df)\n",
    "\n",
    "frame = pd.concat(li, axis=0, ignore_index=True)\n",
    "\n",
    "frame\n"
   ]
  },
  {
   "cell_type": "markdown",
   "metadata": {},
   "source": [
    "## Before we start building machine learning model\n",
    "We have several things to do when build up model\n",
    "- drop unused columns\n",
    "- data type transformations\n",
    "- leaving out the outliers\n",
    "- split data into training set and test set"
   ]
  },
  {
   "cell_type": "markdown",
   "metadata": {},
   "source": [
    "### Drop unused columns \n",
    "In the last page, we have identified the data with the type. \n",
    "we start to drop columns with serial numbers or their station name. "
   ]
  },
  {
   "cell_type": "code",
   "execution_count": 37,
   "metadata": {},
   "outputs": [
    {
     "data": {
      "text/html": [
       "<pre>&lt;class 'pandas.core.frame.DataFrame'&gt;\n",
       "RangeIndex: 814262 entries, 0 to 814261\n",
       "Data columns (total 6 columns):\n",
       " #   Column          Non-Null Count   Dtype \n",
       "---  ------          --------------   ----- \n",
       " 0   station_no      814262 non-null  int64 \n",
       " 1   total           814262 non-null  int64 \n",
       " 2   rentAvailable   814262 non-null  int64 \n",
       " 3   returnAvaiable  814262 non-null  int64 \n",
       " 4   updated_time    814262 non-null  object\n",
       " 5   info_time       814262 non-null  object\n",
       "dtypes: int64(4), object(2)\n",
       "memory usage: 37.3+ MB\n",
       "</pre>"
      ],
      "text/plain": [
       "<class 'pandas.core.frame.DataFrame'>\n",
       "RangeIndex: 814262 entries, 0 to 814261\n",
       "Data columns (total 6 columns):\n",
       " #   Column          Non-Null Count   Dtype \n",
       "---  ------          --------------   ----- \n",
       " 0   station_no      814262 non-null  int64 \n",
       " 1   total           814262 non-null  int64 \n",
       " 2   rentAvailable   814262 non-null  int64 \n",
       " 3   returnAvaiable  814262 non-null  int64 \n",
       " 4   updated_time    814262 non-null  object\n",
       " 5   info_time       814262 non-null  object\n",
       "dtypes: int64(4), object(2)\n",
       "memory usage: 37.3+ MB"
      ]
     },
     "execution_count": 37,
     "metadata": {},
     "output_type": "execute_result"
    }
   ],
   "source": [
    "frame.drop(columns=['_id', 'station_name','station_name_en','district','district_en'],inplace=True)\n",
    "\n",
    "frame"
   ]
  },
  {
   "cell_type": "markdown",
   "metadata": {},
   "source": [
    "### Leaving out error values \n",
    " "
   ]
  },
  {
   "cell_type": "code",
   "execution_count": 38,
   "metadata": {},
   "outputs": [
    {
     "name": "stderr",
     "output_type": "stream",
     "text": [
      "/var/folders/gw/xs4027fs03d38xr930y9wywm0000gn/T/ipykernel_57965/108571922.py:3: SettingWithCopyWarning: \n",
      "A value is trying to be set on a copy of a slice from a DataFrame\n",
      "\n",
      "See the caveats in the documentation: https://pandas.pydata.org/pandas-docs/stable/user_guide/indexing.html#returning-a-view-versus-a-copy\n",
      "  frame.drop(columns='station_no',inplace=True)\n"
     ]
    }
   ],
   "source": [
    "frame = frame.loc[(frame['total'] == frame['rentAvailable'] + frame['returnAvaiable']),:]\n",
    "\n",
    "frame.drop(columns='station_no',inplace=True)"
   ]
  },
  {
   "cell_type": "code",
   "execution_count": 39,
   "metadata": {},
   "outputs": [
    {
     "name": "stderr",
     "output_type": "stream",
     "text": [
      "/var/folders/gw/xs4027fs03d38xr930y9wywm0000gn/T/ipykernel_57965/721652273.py:2: SettingWithCopyWarning: \n",
      "A value is trying to be set on a copy of a slice from a DataFrame.\n",
      "Try using .loc[row_indexer,col_indexer] = value instead\n",
      "\n",
      "See the caveats in the documentation: https://pandas.pydata.org/pandas-docs/stable/user_guide/indexing.html#returning-a-view-versus-a-copy\n",
      "  frame['info_time'] = pd.to_datetime(frame['info_time'],format='%Y-%m-%d %H:%M:%S')\n",
      "/var/folders/gw/xs4027fs03d38xr930y9wywm0000gn/T/ipykernel_57965/721652273.py:3: SettingWithCopyWarning: \n",
      "A value is trying to be set on a copy of a slice from a DataFrame.\n",
      "Try using .loc[row_indexer,col_indexer] = value instead\n",
      "\n",
      "See the caveats in the documentation: https://pandas.pydata.org/pandas-docs/stable/user_guide/indexing.html#returning-a-view-versus-a-copy\n",
      "  frame['updated_time'] = pd.to_datetime(frame['updated_time'],format='%Y-%m-%d %H:%M:%S')\n",
      "/var/folders/gw/xs4027fs03d38xr930y9wywm0000gn/T/ipykernel_57965/721652273.py:8: SettingWithCopyWarning: \n",
      "A value is trying to be set on a copy of a slice from a DataFrame.\n",
      "Try using .loc[row_indexer,col_indexer] = value instead\n",
      "\n",
      "See the caveats in the documentation: https://pandas.pydata.org/pandas-docs/stable/user_guide/indexing.html#returning-a-view-versus-a-copy\n",
      "  frame['TimeDiff'] = timeDiff\n"
     ]
    }
   ],
   "source": [
    "\n",
    "## convert datetime strings to datetime formats\n",
    "frame['info_time'] = pd.to_datetime(frame['info_time'],format='%Y-%m-%d %H:%M:%S')\n",
    "frame['updated_time'] = pd.to_datetime(frame['updated_time'],format='%Y-%m-%d %H:%M:%S')\n",
    "\n",
    "## calculate time difference between station updated time and current time\n",
    "timeDiff = (frame['info_time'] - frame['updated_time']) / pd.Timedelta(minutes=1)\n",
    "\n",
    "frame['TimeDiff'] = timeDiff"
   ]
  },
  {
   "cell_type": "code",
   "execution_count": 40,
   "metadata": {},
   "outputs": [
    {
     "name": "stderr",
     "output_type": "stream",
     "text": [
      "/var/folders/gw/xs4027fs03d38xr930y9wywm0000gn/T/ipykernel_57965/2541519960.py:9: SettingWithCopyWarning: \n",
      "A value is trying to be set on a copy of a slice from a DataFrame.\n",
      "Try using .loc[row_indexer,col_indexer] = value instead\n",
      "\n",
      "See the caveats in the documentation: https://pandas.pydata.org/pandas-docs/stable/user_guide/indexing.html#returning-a-view-versus-a-copy\n",
      "  frame['isWorkDay'] = workday\n"
     ]
    },
    {
     "data": {
      "text/html": [
       "<pre>&lt;class 'pandas.core.frame.DataFrame'&gt;\n",
       "Index: 707282 entries, 0 to 814261\n",
       "Data columns (total 7 columns):\n",
       " #   Column          Non-Null Count   Dtype         \n",
       "---  ------          --------------   -----         \n",
       " 0   total           707282 non-null  int64         \n",
       " 1   rentAvailable   707282 non-null  int64         \n",
       " 2   returnAvaiable  707282 non-null  int64         \n",
       " 3   updated_time    707282 non-null  datetime64[ns]\n",
       " 4   info_time       707282 non-null  datetime64[ns]\n",
       " 5   TimeDiff        707282 non-null  float64       \n",
       " 6   isWorkDay       707282 non-null  bool          \n",
       "dtypes: bool(1), datetime64[ns](2), float64(1), int64(3)\n",
       "memory usage: 38.4 MB\n",
       "</pre>"
      ],
      "text/plain": [
       "<class 'pandas.core.frame.DataFrame'>\n",
       "Index: 707282 entries, 0 to 814261\n",
       "Data columns (total 7 columns):\n",
       " #   Column          Non-Null Count   Dtype         \n",
       "---  ------          --------------   -----         \n",
       " 0   total           707282 non-null  int64         \n",
       " 1   rentAvailable   707282 non-null  int64         \n",
       " 2   returnAvaiable  707282 non-null  int64         \n",
       " 3   updated_time    707282 non-null  datetime64[ns]\n",
       " 4   info_time       707282 non-null  datetime64[ns]\n",
       " 5   TimeDiff        707282 non-null  float64       \n",
       " 6   isWorkDay       707282 non-null  bool          \n",
       "dtypes: bool(1), datetime64[ns](2), float64(1), int64(3)\n",
       "memory usage: 38.4 MB"
      ]
     },
     "execution_count": 40,
     "metadata": {},
     "output_type": "execute_result"
    }
   ],
   "source": [
    "## judge if current time is workday or not\n",
    "def isWorkHour (timeSeries):\n",
    "    work_day = timeSeries.weekday() < 5\n",
    "    work_hour = timeSeries.hour >= 8 & timeSeries.hour < 19\n",
    "    return work_day & work_hour\n",
    "\n",
    "workday = frame['info_time'].apply(isWorkHour)\n",
    "\n",
    "frame['isWorkDay'] = workday\n",
    "\n",
    "frame"
   ]
  },
  {
   "cell_type": "code",
   "execution_count": 41,
   "metadata": {},
   "outputs": [
    {
     "name": "stderr",
     "output_type": "stream",
     "text": [
      "/var/folders/gw/xs4027fs03d38xr930y9wywm0000gn/T/ipykernel_57965/1343256383.py:2: SettingWithCopyWarning: \n",
      "A value is trying to be set on a copy of a slice from a DataFrame.\n",
      "Try using .loc[row_indexer,col_indexer] = value instead\n",
      "\n",
      "See the caveats in the documentation: https://pandas.pydata.org/pandas-docs/stable/user_guide/indexing.html#returning-a-view-versus-a-copy\n",
      "  frame['ratio'] = frame['rentAvailable'] / frame['total']\n"
     ]
    },
    {
     "data": {
      "text/html": [
       "<pre>&lt;class 'pandas.core.frame.DataFrame'&gt;\n",
       "Index: 707282 entries, 0 to 814261\n",
       "Data columns (total 8 columns):\n",
       " #   Column          Non-Null Count   Dtype         \n",
       "---  ------          --------------   -----         \n",
       " 0   total           707282 non-null  int64         \n",
       " 1   rentAvailable   707282 non-null  int64         \n",
       " 2   returnAvaiable  707282 non-null  int64         \n",
       " 3   updated_time    707282 non-null  datetime64[ns]\n",
       " 4   info_time       707282 non-null  datetime64[ns]\n",
       " 5   TimeDiff        707282 non-null  float64       \n",
       " 6   isWorkDay       707282 non-null  bool          \n",
       " 7   ratio           707282 non-null  float64       \n",
       "dtypes: bool(1), datetime64[ns](2), float64(2), int64(3)\n",
       "memory usage: 43.8 MB\n",
       "</pre>"
      ],
      "text/plain": [
       "<class 'pandas.core.frame.DataFrame'>\n",
       "Index: 707282 entries, 0 to 814261\n",
       "Data columns (total 8 columns):\n",
       " #   Column          Non-Null Count   Dtype         \n",
       "---  ------          --------------   -----         \n",
       " 0   total           707282 non-null  int64         \n",
       " 1   rentAvailable   707282 non-null  int64         \n",
       " 2   returnAvaiable  707282 non-null  int64         \n",
       " 3   updated_time    707282 non-null  datetime64[ns]\n",
       " 4   info_time       707282 non-null  datetime64[ns]\n",
       " 5   TimeDiff        707282 non-null  float64       \n",
       " 6   isWorkDay       707282 non-null  bool          \n",
       " 7   ratio           707282 non-null  float64       \n",
       "dtypes: bool(1), datetime64[ns](2), float64(2), int64(3)\n",
       "memory usage: 43.8 MB"
      ]
     },
     "execution_count": 41,
     "metadata": {},
     "output_type": "execute_result"
    }
   ],
   "source": [
    "## Add ratio between rentAvailable and total\n",
    "frame['ratio'] = frame['rentAvailable'] / frame['total']\n",
    "\n",
    "frame"
   ]
  },
  {
   "cell_type": "code",
   "execution_count": null,
   "metadata": {},
   "outputs": [],
   "source": []
  }
 ],
 "metadata": {
  "kernelspec": {
   "display_name": "newDataScience",
   "language": "python",
   "name": "python3"
  },
  "language_info": {
   "codemirror_mode": {
    "name": "ipython",
    "version": 3
   },
   "file_extension": ".py",
   "mimetype": "text/x-python",
   "name": "python",
   "nbconvert_exporter": "python",
   "pygments_lexer": "ipython3",
   "version": "3.8.19"
  }
 },
 "nbformat": 4,
 "nbformat_minor": 2
}
