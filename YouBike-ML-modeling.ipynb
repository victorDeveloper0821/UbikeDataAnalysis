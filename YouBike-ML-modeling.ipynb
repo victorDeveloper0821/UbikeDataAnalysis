{
 "cells": [
  {
   "cell_type": "markdown",
   "metadata": {},
   "source": [
    "# Create Machine learning model for public bike parking lots predictions\n",
    "\n",
    "After Worked on data analytics, we will get started to build up machine learning models "
   ]
  },
  {
   "cell_type": "code",
   "execution_count": 6,
   "metadata": {
    "tags": [
     "output_scroll"
    ]
   },
   "outputs": [
    {
     "data": {
      "text/html": [
       "<div>\n",
       "<style scoped>\n",
       "    .dataframe tbody tr th:only-of-type {\n",
       "        vertical-align: middle;\n",
       "    }\n",
       "\n",
       "    .dataframe tbody tr th {\n",
       "        vertical-align: top;\n",
       "    }\n",
       "\n",
       "    .dataframe thead th {\n",
       "        text-align: right;\n",
       "    }\n",
       "</style>\n",
       "<table border=\"1\" class=\"dataframe\">\n",
       "  <thead>\n",
       "    <tr style=\"text-align: right;\">\n",
       "      <th></th>\n",
       "      <th>_id</th>\n",
       "      <th>station_no</th>\n",
       "      <th>station_name</th>\n",
       "      <th>station_name_en</th>\n",
       "      <th>district</th>\n",
       "      <th>district_en</th>\n",
       "      <th>total</th>\n",
       "      <th>rentAvailable</th>\n",
       "      <th>returnAvaiable</th>\n",
       "      <th>updated_time</th>\n",
       "      <th>info_time</th>\n",
       "    </tr>\n",
       "  </thead>\n",
       "  <tbody>\n",
       "    <tr>\n",
       "      <th>0</th>\n",
       "      <td>66477f00ffd73e577b8e8ee9</td>\n",
       "      <td>500101001</td>\n",
       "      <td>YouBike2.0_捷運科技大樓站</td>\n",
       "      <td>YouBike2.0_MRT Technology Bldg. Sta.</td>\n",
       "      <td>大安區</td>\n",
       "      <td>Daan Dist.</td>\n",
       "      <td>28</td>\n",
       "      <td>2</td>\n",
       "      <td>26</td>\n",
       "      <td>2024-05-17 23:58:23</td>\n",
       "      <td>2024-05-18 00:00:00</td>\n",
       "    </tr>\n",
       "    <tr>\n",
       "      <th>1</th>\n",
       "      <td>66477f00ffd73e577b8e8eea</td>\n",
       "      <td>500101002</td>\n",
       "      <td>YouBike2.0_復興南路二段273號前</td>\n",
       "      <td>YouBike2.0_No.273， Sec. 2， Fuxing S. Rd.</td>\n",
       "      <td>大安區</td>\n",
       "      <td>Daan Dist.</td>\n",
       "      <td>21</td>\n",
       "      <td>4</td>\n",
       "      <td>17</td>\n",
       "      <td>2024-05-17 23:58:23</td>\n",
       "      <td>2024-05-18 00:00:00</td>\n",
       "    </tr>\n",
       "    <tr>\n",
       "      <th>...</th>\n",
       "      <td>...</td>\n",
       "      <td>...</td>\n",
       "      <td>...</td>\n",
       "      <td>...</td>\n",
       "      <td>...</td>\n",
       "      <td>...</td>\n",
       "      <td>...</td>\n",
       "      <td>...</td>\n",
       "      <td>...</td>\n",
       "      <td>...</td>\n",
       "      <td>...</td>\n",
       "    </tr>\n",
       "    <tr>\n",
       "      <th>814260</th>\n",
       "      <td>664f66d4ffd73e577be875f2</td>\n",
       "      <td>500119082</td>\n",
       "      <td>YouBike2.0_臺大四號館東北側</td>\n",
       "      <td>YouBike2.0_NTU Building No.4(Northeast)</td>\n",
       "      <td>臺大公館校區</td>\n",
       "      <td>NTU Dist</td>\n",
       "      <td>10</td>\n",
       "      <td>6</td>\n",
       "      <td>4</td>\n",
       "      <td>2024-05-23 23:53:23</td>\n",
       "      <td>2024-05-23 23:55:00</td>\n",
       "    </tr>\n",
       "    <tr>\n",
       "      <th>814261</th>\n",
       "      <td>664f66d4ffd73e577be875f8</td>\n",
       "      <td>500119088</td>\n",
       "      <td>YouBike2.0_臺大黑森林西側</td>\n",
       "      <td>YouBike2.0_NTU Black Forest(West)</td>\n",
       "      <td>臺大公館校區</td>\n",
       "      <td>NTU Dist</td>\n",
       "      <td>20</td>\n",
       "      <td>2</td>\n",
       "      <td>18</td>\n",
       "      <td>2024-05-23 23:53:23</td>\n",
       "      <td>2024-05-23 23:55:00</td>\n",
       "    </tr>\n",
       "  </tbody>\n",
       "</table>\n",
       "<p>814262 rows × 11 columns</p>\n",
       "</div>"
      ],
      "text/plain": [
       "                             _id  station_no            station_name  \\\n",
       "0       66477f00ffd73e577b8e8ee9   500101001      YouBike2.0_捷運科技大樓站   \n",
       "1       66477f00ffd73e577b8e8eea   500101002  YouBike2.0_復興南路二段273號前   \n",
       "...                          ...         ...                     ...   \n",
       "814260  664f66d4ffd73e577be875f2   500119082     YouBike2.0_臺大四號館東北側   \n",
       "814261  664f66d4ffd73e577be875f8   500119088      YouBike2.0_臺大黑森林西側   \n",
       "\n",
       "                                 station_name_en district district_en  total  \\\n",
       "0           YouBike2.0_MRT Technology Bldg. Sta.      大安區  Daan Dist.     28   \n",
       "1       YouBike2.0_No.273， Sec. 2， Fuxing S. Rd.      大安區  Daan Dist.     21   \n",
       "...                                          ...      ...         ...    ...   \n",
       "814260   YouBike2.0_NTU Building No.4(Northeast)   臺大公館校區    NTU Dist     10   \n",
       "814261         YouBike2.0_NTU Black Forest(West)   臺大公館校區    NTU Dist     20   \n",
       "\n",
       "        rentAvailable  returnAvaiable         updated_time  \\\n",
       "0                   2              26  2024-05-17 23:58:23   \n",
       "1                   4              17  2024-05-17 23:58:23   \n",
       "...               ...             ...                  ...   \n",
       "814260              6               4  2024-05-23 23:53:23   \n",
       "814261              2              18  2024-05-23 23:53:23   \n",
       "\n",
       "                  info_time  \n",
       "0       2024-05-18 00:00:00  \n",
       "1       2024-05-18 00:00:00  \n",
       "...                     ...  \n",
       "814260  2024-05-23 23:55:00  \n",
       "814261  2024-05-23 23:55:00  \n",
       "\n",
       "[814262 rows x 11 columns]"
      ]
     },
     "execution_count": 6,
     "metadata": {},
     "output_type": "execute_result"
    }
   ],
   "source": [
    "import numpy as np\n",
    "import pandas as pd\n",
    "import os\n",
    "from sklearn.model_selection import train_test_split\n",
    "from IPython.display import display\n",
    "\n",
    "\n",
    "\n",
    "pd.set_option('display.max_rows',5)\n",
    "pd.set_option('display.max_columns', None)  # 显示所有列\n",
    "pd.set_option('display.width', None)  # 自动调整宽度\n",
    "\n",
    "li = []\n",
    "for dirname, _, filenames in os.walk('./data/'):\n",
    "    for filename in filenames:\n",
    "        df = pd.read_csv(dirname+filename, index_col=None, header=0)\n",
    "        li.append(df)\n",
    "\n",
    "frame = pd.concat(li, axis=0, ignore_index=True)\n",
    "\n",
    "frame\n"
   ]
  },
  {
   "cell_type": "markdown",
   "metadata": {},
   "source": [
    "## Before we start building machine learning model\n",
    "We have several things to do when build up model\n",
    "- drop unused columns\n",
    "- data type transformations\n",
    "- leaving out the outliers\n",
    "- split data into training set and test set"
   ]
  },
  {
   "cell_type": "markdown",
   "metadata": {},
   "source": [
    "### Drop unused columns \n",
    "In the last page, we have identified the data with the type. \n",
    "we start to drop columns with serial numbers or their station name. "
   ]
  },
  {
   "cell_type": "code",
   "execution_count": 7,
   "metadata": {
    "tags": [
     "output_scroll"
    ]
   },
   "outputs": [
    {
     "data": {
      "text/html": [
       "<div>\n",
       "<style scoped>\n",
       "    .dataframe tbody tr th:only-of-type {\n",
       "        vertical-align: middle;\n",
       "    }\n",
       "\n",
       "    .dataframe tbody tr th {\n",
       "        vertical-align: top;\n",
       "    }\n",
       "\n",
       "    .dataframe thead th {\n",
       "        text-align: right;\n",
       "    }\n",
       "</style>\n",
       "<table border=\"1\" class=\"dataframe\">\n",
       "  <thead>\n",
       "    <tr style=\"text-align: right;\">\n",
       "      <th></th>\n",
       "      <th>station_no</th>\n",
       "      <th>total</th>\n",
       "      <th>rentAvailable</th>\n",
       "      <th>returnAvaiable</th>\n",
       "      <th>updated_time</th>\n",
       "      <th>info_time</th>\n",
       "    </tr>\n",
       "  </thead>\n",
       "  <tbody>\n",
       "    <tr>\n",
       "      <th>0</th>\n",
       "      <td>500101001</td>\n",
       "      <td>28</td>\n",
       "      <td>2</td>\n",
       "      <td>26</td>\n",
       "      <td>2024-05-17 23:58:23</td>\n",
       "      <td>2024-05-18 00:00:00</td>\n",
       "    </tr>\n",
       "    <tr>\n",
       "      <th>1</th>\n",
       "      <td>500101002</td>\n",
       "      <td>21</td>\n",
       "      <td>4</td>\n",
       "      <td>17</td>\n",
       "      <td>2024-05-17 23:58:23</td>\n",
       "      <td>2024-05-18 00:00:00</td>\n",
       "    </tr>\n",
       "    <tr>\n",
       "      <th>...</th>\n",
       "      <td>...</td>\n",
       "      <td>...</td>\n",
       "      <td>...</td>\n",
       "      <td>...</td>\n",
       "      <td>...</td>\n",
       "      <td>...</td>\n",
       "    </tr>\n",
       "    <tr>\n",
       "      <th>814260</th>\n",
       "      <td>500119082</td>\n",
       "      <td>10</td>\n",
       "      <td>6</td>\n",
       "      <td>4</td>\n",
       "      <td>2024-05-23 23:53:23</td>\n",
       "      <td>2024-05-23 23:55:00</td>\n",
       "    </tr>\n",
       "    <tr>\n",
       "      <th>814261</th>\n",
       "      <td>500119088</td>\n",
       "      <td>20</td>\n",
       "      <td>2</td>\n",
       "      <td>18</td>\n",
       "      <td>2024-05-23 23:53:23</td>\n",
       "      <td>2024-05-23 23:55:00</td>\n",
       "    </tr>\n",
       "  </tbody>\n",
       "</table>\n",
       "<p>814262 rows × 6 columns</p>\n",
       "</div>"
      ],
      "text/plain": [
       "        station_no  total  rentAvailable  returnAvaiable         updated_time  \\\n",
       "0        500101001     28              2              26  2024-05-17 23:58:23   \n",
       "1        500101002     21              4              17  2024-05-17 23:58:23   \n",
       "...            ...    ...            ...             ...                  ...   \n",
       "814260   500119082     10              6               4  2024-05-23 23:53:23   \n",
       "814261   500119088     20              2              18  2024-05-23 23:53:23   \n",
       "\n",
       "                  info_time  \n",
       "0       2024-05-18 00:00:00  \n",
       "1       2024-05-18 00:00:00  \n",
       "...                     ...  \n",
       "814260  2024-05-23 23:55:00  \n",
       "814261  2024-05-23 23:55:00  \n",
       "\n",
       "[814262 rows x 6 columns]"
      ]
     },
     "execution_count": 7,
     "metadata": {},
     "output_type": "execute_result"
    }
   ],
   "source": [
    "frame.drop(columns=['_id', 'station_name','station_name_en','district','district_en'],inplace=True)\n",
    "\n",
    "frame"
   ]
  },
  {
   "cell_type": "markdown",
   "metadata": {},
   "source": [
    "### Leaving out error values \n",
    " "
   ]
  },
  {
   "cell_type": "code",
   "execution_count": 8,
   "metadata": {
    "tags": [
     "output_scroll"
    ]
   },
   "outputs": [
    {
     "name": "stderr",
     "output_type": "stream",
     "text": [
      "/var/folders/gw/xs4027fs03d38xr930y9wywm0000gn/T/ipykernel_89604/1947658609.py:3: SettingWithCopyWarning: \n",
      "A value is trying to be set on a copy of a slice from a DataFrame\n",
      "\n",
      "See the caveats in the documentation: https://pandas.pydata.org/pandas-docs/stable/user_guide/indexing.html#returning-a-view-versus-a-copy\n",
      "  frame.drop(columns='station_no',inplace=True)\n"
     ]
    },
    {
     "data": {
      "text/html": [
       "<div>\n",
       "<style scoped>\n",
       "    .dataframe tbody tr th:only-of-type {\n",
       "        vertical-align: middle;\n",
       "    }\n",
       "\n",
       "    .dataframe tbody tr th {\n",
       "        vertical-align: top;\n",
       "    }\n",
       "\n",
       "    .dataframe thead th {\n",
       "        text-align: right;\n",
       "    }\n",
       "</style>\n",
       "<table border=\"1\" class=\"dataframe\">\n",
       "  <thead>\n",
       "    <tr style=\"text-align: right;\">\n",
       "      <th></th>\n",
       "      <th>total</th>\n",
       "      <th>rentAvailable</th>\n",
       "      <th>returnAvaiable</th>\n",
       "      <th>updated_time</th>\n",
       "      <th>info_time</th>\n",
       "    </tr>\n",
       "  </thead>\n",
       "  <tbody>\n",
       "    <tr>\n",
       "      <th>0</th>\n",
       "      <td>28</td>\n",
       "      <td>2</td>\n",
       "      <td>26</td>\n",
       "      <td>2024-05-17 23:58:23</td>\n",
       "      <td>2024-05-18 00:00:00</td>\n",
       "    </tr>\n",
       "    <tr>\n",
       "      <th>1</th>\n",
       "      <td>21</td>\n",
       "      <td>4</td>\n",
       "      <td>17</td>\n",
       "      <td>2024-05-17 23:58:23</td>\n",
       "      <td>2024-05-18 00:00:00</td>\n",
       "    </tr>\n",
       "    <tr>\n",
       "      <th>...</th>\n",
       "      <td>...</td>\n",
       "      <td>...</td>\n",
       "      <td>...</td>\n",
       "      <td>...</td>\n",
       "      <td>...</td>\n",
       "    </tr>\n",
       "    <tr>\n",
       "      <th>814260</th>\n",
       "      <td>10</td>\n",
       "      <td>6</td>\n",
       "      <td>4</td>\n",
       "      <td>2024-05-23 23:53:23</td>\n",
       "      <td>2024-05-23 23:55:00</td>\n",
       "    </tr>\n",
       "    <tr>\n",
       "      <th>814261</th>\n",
       "      <td>20</td>\n",
       "      <td>2</td>\n",
       "      <td>18</td>\n",
       "      <td>2024-05-23 23:53:23</td>\n",
       "      <td>2024-05-23 23:55:00</td>\n",
       "    </tr>\n",
       "  </tbody>\n",
       "</table>\n",
       "<p>707282 rows × 5 columns</p>\n",
       "</div>"
      ],
      "text/plain": [
       "        total  rentAvailable  returnAvaiable         updated_time  \\\n",
       "0          28              2              26  2024-05-17 23:58:23   \n",
       "1          21              4              17  2024-05-17 23:58:23   \n",
       "...       ...            ...             ...                  ...   \n",
       "814260     10              6               4  2024-05-23 23:53:23   \n",
       "814261     20              2              18  2024-05-23 23:53:23   \n",
       "\n",
       "                  info_time  \n",
       "0       2024-05-18 00:00:00  \n",
       "1       2024-05-18 00:00:00  \n",
       "...                     ...  \n",
       "814260  2024-05-23 23:55:00  \n",
       "814261  2024-05-23 23:55:00  \n",
       "\n",
       "[707282 rows x 5 columns]"
      ]
     },
     "execution_count": 8,
     "metadata": {},
     "output_type": "execute_result"
    }
   ],
   "source": [
    "frame = frame.loc[(frame['total'] == frame['rentAvailable'] + frame['returnAvaiable']),:]\n",
    "\n",
    "frame.drop(columns='station_no',inplace=True)\n",
    "\n",
    "frame"
   ]
  },
  {
   "cell_type": "code",
   "execution_count": 9,
   "metadata": {},
   "outputs": [
    {
     "name": "stderr",
     "output_type": "stream",
     "text": [
      "/var/folders/gw/xs4027fs03d38xr930y9wywm0000gn/T/ipykernel_89604/1608152123.py:2: SettingWithCopyWarning: \n",
      "A value is trying to be set on a copy of a slice from a DataFrame.\n",
      "Try using .loc[row_indexer,col_indexer] = value instead\n",
      "\n",
      "See the caveats in the documentation: https://pandas.pydata.org/pandas-docs/stable/user_guide/indexing.html#returning-a-view-versus-a-copy\n",
      "  frame['info_time'] = pd.to_datetime(frame['info_time'],format='%Y-%m-%d %H:%M:%S')\n",
      "/var/folders/gw/xs4027fs03d38xr930y9wywm0000gn/T/ipykernel_89604/1608152123.py:3: SettingWithCopyWarning: \n",
      "A value is trying to be set on a copy of a slice from a DataFrame.\n",
      "Try using .loc[row_indexer,col_indexer] = value instead\n",
      "\n",
      "See the caveats in the documentation: https://pandas.pydata.org/pandas-docs/stable/user_guide/indexing.html#returning-a-view-versus-a-copy\n",
      "  frame['updated_time'] = pd.to_datetime(frame['updated_time'],format='%Y-%m-%d %H:%M:%S')\n",
      "/var/folders/gw/xs4027fs03d38xr930y9wywm0000gn/T/ipykernel_89604/1608152123.py:8: SettingWithCopyWarning: \n",
      "A value is trying to be set on a copy of a slice from a DataFrame.\n",
      "Try using .loc[row_indexer,col_indexer] = value instead\n",
      "\n",
      "See the caveats in the documentation: https://pandas.pydata.org/pandas-docs/stable/user_guide/indexing.html#returning-a-view-versus-a-copy\n",
      "  frame['TimeDiff'] = timeDiff\n",
      "/var/folders/gw/xs4027fs03d38xr930y9wywm0000gn/T/ipykernel_89604/1608152123.py:9: SettingWithCopyWarning: \n",
      "A value is trying to be set on a copy of a slice from a DataFrame.\n",
      "Try using .loc[row_indexer,col_indexer] = value instead\n",
      "\n",
      "See the caveats in the documentation: https://pandas.pydata.org/pandas-docs/stable/user_guide/indexing.html#returning-a-view-versus-a-copy\n",
      "  frame['hours'] = frame['info_time'].dt.hour\n"
     ]
    }
   ],
   "source": [
    "\n",
    "## convert datetime strings to datetime formats\n",
    "frame['info_time'] = pd.to_datetime(frame['info_time'],format='%Y-%m-%d %H:%M:%S')\n",
    "frame['updated_time'] = pd.to_datetime(frame['updated_time'],format='%Y-%m-%d %H:%M:%S')\n",
    "\n",
    "## calculate time difference between station updated time and current time\n",
    "timeDiff = (frame['info_time'] - frame['updated_time']) / pd.Timedelta(minutes=1)\n",
    "\n",
    "frame['TimeDiff'] = timeDiff\n",
    "frame['hours'] = frame['info_time'].dt.hour"
   ]
  },
  {
   "cell_type": "code",
   "execution_count": 10,
   "metadata": {
    "tags": [
     "output_scroll"
    ]
   },
   "outputs": [
    {
     "name": "stderr",
     "output_type": "stream",
     "text": [
      "/var/folders/gw/xs4027fs03d38xr930y9wywm0000gn/T/ipykernel_89604/2541519960.py:9: SettingWithCopyWarning: \n",
      "A value is trying to be set on a copy of a slice from a DataFrame.\n",
      "Try using .loc[row_indexer,col_indexer] = value instead\n",
      "\n",
      "See the caveats in the documentation: https://pandas.pydata.org/pandas-docs/stable/user_guide/indexing.html#returning-a-view-versus-a-copy\n",
      "  frame['isWorkDay'] = workday\n"
     ]
    },
    {
     "data": {
      "text/html": [
       "<div>\n",
       "<style scoped>\n",
       "    .dataframe tbody tr th:only-of-type {\n",
       "        vertical-align: middle;\n",
       "    }\n",
       "\n",
       "    .dataframe tbody tr th {\n",
       "        vertical-align: top;\n",
       "    }\n",
       "\n",
       "    .dataframe thead th {\n",
       "        text-align: right;\n",
       "    }\n",
       "</style>\n",
       "<table border=\"1\" class=\"dataframe\">\n",
       "  <thead>\n",
       "    <tr style=\"text-align: right;\">\n",
       "      <th></th>\n",
       "      <th>total</th>\n",
       "      <th>rentAvailable</th>\n",
       "      <th>returnAvaiable</th>\n",
       "      <th>updated_time</th>\n",
       "      <th>info_time</th>\n",
       "      <th>TimeDiff</th>\n",
       "      <th>hours</th>\n",
       "      <th>isWorkDay</th>\n",
       "    </tr>\n",
       "  </thead>\n",
       "  <tbody>\n",
       "    <tr>\n",
       "      <th>0</th>\n",
       "      <td>28</td>\n",
       "      <td>2</td>\n",
       "      <td>26</td>\n",
       "      <td>2024-05-17 23:58:23</td>\n",
       "      <td>2024-05-18 00:00:00</td>\n",
       "      <td>1.616667</td>\n",
       "      <td>0</td>\n",
       "      <td>False</td>\n",
       "    </tr>\n",
       "    <tr>\n",
       "      <th>1</th>\n",
       "      <td>21</td>\n",
       "      <td>4</td>\n",
       "      <td>17</td>\n",
       "      <td>2024-05-17 23:58:23</td>\n",
       "      <td>2024-05-18 00:00:00</td>\n",
       "      <td>1.616667</td>\n",
       "      <td>0</td>\n",
       "      <td>False</td>\n",
       "    </tr>\n",
       "    <tr>\n",
       "      <th>...</th>\n",
       "      <td>...</td>\n",
       "      <td>...</td>\n",
       "      <td>...</td>\n",
       "      <td>...</td>\n",
       "      <td>...</td>\n",
       "      <td>...</td>\n",
       "      <td>...</td>\n",
       "      <td>...</td>\n",
       "    </tr>\n",
       "    <tr>\n",
       "      <th>814260</th>\n",
       "      <td>10</td>\n",
       "      <td>6</td>\n",
       "      <td>4</td>\n",
       "      <td>2024-05-23 23:53:23</td>\n",
       "      <td>2024-05-23 23:55:00</td>\n",
       "      <td>1.616667</td>\n",
       "      <td>23</td>\n",
       "      <td>True</td>\n",
       "    </tr>\n",
       "    <tr>\n",
       "      <th>814261</th>\n",
       "      <td>20</td>\n",
       "      <td>2</td>\n",
       "      <td>18</td>\n",
       "      <td>2024-05-23 23:53:23</td>\n",
       "      <td>2024-05-23 23:55:00</td>\n",
       "      <td>1.616667</td>\n",
       "      <td>23</td>\n",
       "      <td>True</td>\n",
       "    </tr>\n",
       "  </tbody>\n",
       "</table>\n",
       "<p>707282 rows × 8 columns</p>\n",
       "</div>"
      ],
      "text/plain": [
       "        total  rentAvailable  returnAvaiable        updated_time  \\\n",
       "0          28              2              26 2024-05-17 23:58:23   \n",
       "1          21              4              17 2024-05-17 23:58:23   \n",
       "...       ...            ...             ...                 ...   \n",
       "814260     10              6               4 2024-05-23 23:53:23   \n",
       "814261     20              2              18 2024-05-23 23:53:23   \n",
       "\n",
       "                 info_time  TimeDiff  hours  isWorkDay  \n",
       "0      2024-05-18 00:00:00  1.616667      0      False  \n",
       "1      2024-05-18 00:00:00  1.616667      0      False  \n",
       "...                    ...       ...    ...        ...  \n",
       "814260 2024-05-23 23:55:00  1.616667     23       True  \n",
       "814261 2024-05-23 23:55:00  1.616667     23       True  \n",
       "\n",
       "[707282 rows x 8 columns]"
      ]
     },
     "execution_count": 10,
     "metadata": {},
     "output_type": "execute_result"
    }
   ],
   "source": [
    "## judge if current time is workday or not\n",
    "def isWorkHour (timeSeries):\n",
    "    work_day = timeSeries.weekday() < 5\n",
    "    work_hour = timeSeries.hour >= 8 & timeSeries.hour < 19\n",
    "    return work_day & work_hour\n",
    "\n",
    "workday = frame['info_time'].apply(isWorkHour)\n",
    "\n",
    "frame['isWorkDay'] = workday\n",
    "\n",
    "frame"
   ]
  },
  {
   "cell_type": "code",
   "execution_count": 11,
   "metadata": {},
   "outputs": [
    {
     "name": "stderr",
     "output_type": "stream",
     "text": [
      "/var/folders/gw/xs4027fs03d38xr930y9wywm0000gn/T/ipykernel_89604/133128789.py:4: SettingWithCopyWarning: \n",
      "A value is trying to be set on a copy of a slice from a DataFrame.\n",
      "Try using .loc[row_indexer,col_indexer] = value instead\n",
      "\n",
      "See the caveats in the documentation: https://pandas.pydata.org/pandas-docs/stable/user_guide/indexing.html#returning-a-view-versus-a-copy\n",
      "  frame['ratio'] = ratio\n"
     ]
    }
   ],
   "source": [
    "## Add ratio between rentAvailable and total\n",
    "ratio = frame['rentAvailable'] / frame['total']\n",
    "\n",
    "frame['ratio'] = ratio"
   ]
  },
  {
   "cell_type": "code",
   "execution_count": 12,
   "metadata": {},
   "outputs": [
    {
     "name": "stderr",
     "output_type": "stream",
     "text": [
      "/var/folders/gw/xs4027fs03d38xr930y9wywm0000gn/T/ipykernel_89604/3284268876.py:2: SettingWithCopyWarning: \n",
      "A value is trying to be set on a copy of a slice from a DataFrame\n",
      "\n",
      "See the caveats in the documentation: https://pandas.pydata.org/pandas-docs/stable/user_guide/indexing.html#returning-a-view-versus-a-copy\n",
      "  frame.drop(columns=['info_time','updated_time'], inplace=True)\n"
     ]
    }
   ],
   "source": [
    "## remove columns with date data type\n",
    "frame.drop(columns=['info_time','updated_time'], inplace=True)"
   ]
  },
  {
   "cell_type": "code",
   "execution_count": 15,
   "metadata": {
    "tags": [
     "output_scroll"
    ]
   },
   "outputs": [
    {
     "data": {
      "image/png": "[encoded data removed]",
      "text/plain": [
       "<Figure size 1000x800 with 2 Axes>"
      ]
     },
     "metadata": {},
     "output_type": "display_data"
    }
   ],
   "source": [
    "import seaborn as sns\n",
    "import matplotlib.pyplot as plt\n",
    "\n",
    "corr_matrix = frame.corr()\n",
    "\n",
    "# 繪製 heatmap\n",
    "plt.figure(figsize=(10, 8))\n",
    "sns.heatmap(corr_matrix, annot=True, fmt=\".2f\", cmap='coolwarm', linewidths=0.5)\n",
    "plt.title('Correlation Heatmap')\n",
    "plt.show()\n"
   ]
  },
  {
   "cell_type": "code",
   "execution_count": 19,
   "metadata": {},
   "outputs": [
    {
     "data": {
      "image/png": "[encoded data removed]",
      "text/plain": [
       "<Figure size 1000x800 with 2 Axes>"
      ]
     },
     "metadata": {},
     "output_type": "display_data"
    }
   ],
   "source": [
    "frame1 = frame.copy()\n",
    "frame1.drop(columns=['returnAvaiable','isWorkDay'],inplace=True)\n",
    "corr_matrix = frame1.corr()\n",
    "\n",
    "# 繪製 heatmap\n",
    "plt.figure(figsize=(10, 8))\n",
    "sns.heatmap(corr_matrix, annot=True, fmt=\".2f\", cmap='coolwarm', linewidths=0.5)\n",
    "plt.title('Correlation Heatmap')\n",
    "plt.show()\n"
   ]
  },
  {
   "cell_type": "code",
   "execution_count": 21,
   "metadata": {},
   "outputs": [
    {
     "name": "stdout",
     "output_type": "stream",
     "text": [
      "X_train shape: (495097, 6)\n",
      "X_test shape: (212185, 6)\n",
      "y_train shape: (495097,)\n",
      "y_test shape: (212185,)\n"
     ]
    }
   ],
   "source": [
    "## split training set and test set\n",
    "# 分割特徵和標籤\n",
    "X = frame.drop('rentAvailable', axis=1)  # 特徵\n",
    "y = frame['rentAvailable']  # 標籤\n",
    "\n",
    "# 使用 train_test_split 將資料分割成訓練集和測試集\n",
    "X_train, X_test, y_train, y_test = train_test_split(X, y, test_size=0.3, random_state=42)\n",
    "\n",
    "# 檢查分割後的資料集大小\n",
    "print(f\"X_train shape: {X_train.shape}\")\n",
    "print(f\"X_test shape: {X_test.shape}\")\n",
    "print(f\"y_train shape: {y_train.shape}\")\n",
    "print(f\"y_test shape: {X_test.shape}\")"
   ]
  },
  {
   "cell_type": "code",
   "execution_count": 48,
   "metadata": {},
   "outputs": [
    {
     "name": "stdout",
     "output_type": "stream",
     "text": [
      "Mean Squared Error (MSE): 8.044833884925732e-25\n",
      "Mean Absolute Error (MAE): 6.597758865145705e-13\n",
      "R Squared (R²): 1.0\n",
      "Adjusted R Squared (Adjusted R²): 1.0\n"
     ]
    },
    {
     "data": {
      "text/plain": [
       "array([ 7.,  6., 14., ...,  8., 16.,  1.])"
      ]
     },
     "execution_count": 48,
     "metadata": {},
     "output_type": "execute_result"
    }
   ],
   "source": [
    "from sklearn.linear_model import LinearRegression\n",
    "from sklearn.metrics import mean_squared_error, mean_absolute_error, r2_score\n",
    "\n",
    "# 建立並訓練線性回歸模型\n",
    "lm = LinearRegression()\n",
    "lm.fit(X_train, y_train)\n",
    "y_pred = lm.predict(X_test)\n",
    "# 計算均方誤差 (MSE)\n",
    "mse = mean_squared_error(y_test, y_pred)\n",
    "\n",
    "# 計算均絕對誤差 (MAE)\n",
    "mae = mean_absolute_error(y_test, y_pred)\n",
    "\n",
    "# 計算 R 平方 (R² Score)\n",
    "r_squared = r2_score(y_test, y_pred)\n",
    "\n",
    "# 計算調整後的 R 平方\n",
    "n = X_test.shape[0]\n",
    "p = X_test.shape[1]\n",
    "adj_r_squared = 1 - (1 - r_squared) * (n - 1) / (n - p - 1)\n",
    "\n",
    "# 印出模型績效\n",
    "print(\"Mean Squared Error (MSE):\", mse)\n",
    "print(\"Mean Absolute Error (MAE):\", mae)\n",
    "print(\"R Squared (R²):\", r_squared)\n",
    "print(\"Adjusted R Squared (Adjusted R²):\", adj_r_squared)\n",
    "\n",
    "# 輸出 y_pred\n",
    "y_pred"
   ]
  }
 ],
 "metadata": {
  "kernelspec": {
   "display_name": "newDataScience",
   "language": "python",
   "name": "python3"
  },
  "language_info": {
   "codemirror_mode": {
    "name": "ipython",
    "version": 3
   },
   "file_extension": ".py",
   "mimetype": "text/x-python",
   "name": "python",
   "nbconvert_exporter": "python",
   "pygments_lexer": "ipython3",
   "version": "3.8.19"
  }
 },
 "nbformat": 4,
 "nbformat_minor": 2
}
