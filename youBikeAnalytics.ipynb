{
 "cells": [
  {
   "cell_type": "markdown",
   "metadata": {},
   "source": [
    "# Data analysis books for UBike services\n",
    "We require to install **pandas**, **metplotlib** and **seaborn** in the virtual environment. \n"
   ]
  },
  {
   "cell_type": "code",
   "execution_count": 6,
   "metadata": {},
   "outputs": [
    {
     "data": {
      "text/plain": [
       "Index(['_id', 'station_no', 'station_name', 'district', 'total', 'used',\n",
       "       'empty', 'updated_time', 'info_time'],\n",
       "      dtype='object')"
      ]
     },
     "execution_count": 6,
     "metadata": {},
     "output_type": "execute_result"
    }
   ],
   "source": [
    "import pandas as pd\n",
    "from matplotlib import pyplot as plt\n",
    "\n",
    "pd.set_option('display.max_rows',30)\n",
    "pd.set_option('large_repr', 'info')\n",
    "\n",
    "# read data here\n",
    "bikecsv = pd.read_csv('data/youbike_240421.csv') \n",
    "\n",
    "bikecsv.columns"
   ]
  },
  {
   "cell_type": "markdown",
   "metadata": {},
   "source": [
    "## Before analyses, it requires us to know columns in csv data\n",
    "\n",
    "**Here is the table show meaning or types of data. **\n",
    "\n",
    "| Column Name | Type (Numerical/Category) | nullable | description |\n",
    "| --- | --- | --- | --- |\n",
    "| station_no | Categorical | non-null | Serial Number |  \n",
    "| station_name | Categorical | non-null | Station name |  \n",
    "| district | Categorical | non-null | stations in which districts |  \n",
    "| total | Numerical |  non-null | total = used + empty| \n",
    "| used | Numerical |  non-null | available rental seats in stations | \n",
    "| empty | Numerical |  non-null | avaiable return seats in stations | \n",
    "|info_time | Date String | non-null | date time string in TZ GMT+8 |\n",
    "\n",
    "Also, `info_time` can be categorize as workday or weekend to analyse "
   ]
  },
  {
   "cell_type": "code",
   "execution_count": null,
   "metadata": {},
   "outputs": [],
   "source": []
  }
 ],
 "metadata": {
  "kernelspec": {
   "display_name": "newDataScience",
   "language": "python",
   "name": "python3"
  },
  "language_info": {
   "codemirror_mode": {
    "name": "ipython",
    "version": 3
   },
   "file_extension": ".py",
   "mimetype": "text/x-python",
   "name": "python",
   "nbconvert_exporter": "python",
   "pygments_lexer": "ipython3",
   "version": "3.10.13"
  }
 },
 "nbformat": 4,
 "nbformat_minor": 2
}
